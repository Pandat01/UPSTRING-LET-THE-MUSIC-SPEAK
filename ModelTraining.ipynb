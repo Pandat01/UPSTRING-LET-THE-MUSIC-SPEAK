{
 "cells": [
  {
   "cell_type": "code",
   "execution_count": 234,
   "id": "initial_id",
   "metadata": {
    "collapsed": true,
    "ExecuteTime": {
     "end_time": "2024-02-13T18:32:07.860329Z",
     "start_time": "2024-02-13T18:32:07.847355700Z"
    }
   },
   "outputs": [],
   "source": [
    "import pandas as pd"
   ]
  },
  {
   "cell_type": "code",
   "outputs": [],
   "source": [
    "df = pd.read_csv(\"spotify_millsongdata.csv\")"
   ],
   "metadata": {
    "collapsed": false,
    "ExecuteTime": {
     "end_time": "2024-02-13T18:32:08.732839Z",
     "start_time": "2024-02-13T18:32:07.863333700Z"
    }
   },
   "id": "ff04d1f194d895da",
   "execution_count": 235
  },
  {
   "cell_type": "code",
   "outputs": [
    {
     "data": {
      "text/plain": "  artist                   song                                        link  \\\n0   ABBA  Ahe's My Kind Of Girl  /a/abba/ahes+my+kind+of+girl_20598417.html   \n1   ABBA       Andante, Andante       /a/abba/andante+andante_20002708.html   \n2   ABBA         As Good As New        /a/abba/as+good+as+new_20003033.html   \n3   ABBA                   Bang                  /a/abba/bang_20598415.html   \n4   ABBA       Bang-A-Boomerang      /a/abba/bang+a+boomerang_20002668.html   \n\n                                                text  \n0  Look at her face, it's a wonderful face  \\r\\nA...  \n1  Take it easy with me, please  \\r\\nTouch me gen...  \n2  I'll never know why I had to go  \\r\\nWhy I had...  \n3  Making somebody happy is a question of give an...  \n4  Making somebody happy is a question of give an...  ",
      "text/html": "<div>\n<style scoped>\n    .dataframe tbody tr th:only-of-type {\n        vertical-align: middle;\n    }\n\n    .dataframe tbody tr th {\n        vertical-align: top;\n    }\n\n    .dataframe thead th {\n        text-align: right;\n    }\n</style>\n<table border=\"1\" class=\"dataframe\">\n  <thead>\n    <tr style=\"text-align: right;\">\n      <th></th>\n      <th>artist</th>\n      <th>song</th>\n      <th>link</th>\n      <th>text</th>\n    </tr>\n  </thead>\n  <tbody>\n    <tr>\n      <th>0</th>\n      <td>ABBA</td>\n      <td>Ahe's My Kind Of Girl</td>\n      <td>/a/abba/ahes+my+kind+of+girl_20598417.html</td>\n      <td>Look at her face, it's a wonderful face  \\r\\nA...</td>\n    </tr>\n    <tr>\n      <th>1</th>\n      <td>ABBA</td>\n      <td>Andante, Andante</td>\n      <td>/a/abba/andante+andante_20002708.html</td>\n      <td>Take it easy with me, please  \\r\\nTouch me gen...</td>\n    </tr>\n    <tr>\n      <th>2</th>\n      <td>ABBA</td>\n      <td>As Good As New</td>\n      <td>/a/abba/as+good+as+new_20003033.html</td>\n      <td>I'll never know why I had to go  \\r\\nWhy I had...</td>\n    </tr>\n    <tr>\n      <th>3</th>\n      <td>ABBA</td>\n      <td>Bang</td>\n      <td>/a/abba/bang_20598415.html</td>\n      <td>Making somebody happy is a question of give an...</td>\n    </tr>\n    <tr>\n      <th>4</th>\n      <td>ABBA</td>\n      <td>Bang-A-Boomerang</td>\n      <td>/a/abba/bang+a+boomerang_20002668.html</td>\n      <td>Making somebody happy is a question of give an...</td>\n    </tr>\n  </tbody>\n</table>\n</div>"
     },
     "execution_count": 236,
     "metadata": {},
     "output_type": "execute_result"
    }
   ],
   "source": [
    "df.head(5)"
   ],
   "metadata": {
    "collapsed": false,
    "ExecuteTime": {
     "end_time": "2024-02-13T18:32:08.745295500Z",
     "start_time": "2024-02-13T18:32:08.734937100Z"
    }
   },
   "id": "1382e2271cee3091",
   "execution_count": 236
  },
  {
   "cell_type": "code",
   "outputs": [
    {
     "data": {
      "text/plain": "             artist           song  \\\n57645  Ziggy Marley  Good Old Days   \n57646  Ziggy Marley  Hand To Mouth   \n57647          Zwan   Come With Me   \n57648          Zwan         Desire   \n57649          Zwan      Heartsong   \n\n                                              link  \\\n57645  /z/ziggy+marley/good+old+days_10198588.html   \n57646  /z/ziggy+marley/hand+to+mouth_20531167.html   \n57647           /z/zwan/come+with+me_20148981.html   \n57648                 /z/zwan/desire_20148986.html   \n57649              /z/zwan/heartsong_20148991.html   \n\n                                                    text  \n57645  Irie days come on play  \\r\\nLet the angels fly...  \n57646  Power to the workers  \\r\\nMore power  \\r\\nPowe...  \n57647  all you need  \\r\\nis something i'll believe  \\...  \n57648  northern star  \\r\\nam i frightened  \\r\\nwhere ...  \n57649  come in  \\r\\nmake yourself at home  \\r\\ni'm a ...  ",
      "text/html": "<div>\n<style scoped>\n    .dataframe tbody tr th:only-of-type {\n        vertical-align: middle;\n    }\n\n    .dataframe tbody tr th {\n        vertical-align: top;\n    }\n\n    .dataframe thead th {\n        text-align: right;\n    }\n</style>\n<table border=\"1\" class=\"dataframe\">\n  <thead>\n    <tr style=\"text-align: right;\">\n      <th></th>\n      <th>artist</th>\n      <th>song</th>\n      <th>link</th>\n      <th>text</th>\n    </tr>\n  </thead>\n  <tbody>\n    <tr>\n      <th>57645</th>\n      <td>Ziggy Marley</td>\n      <td>Good Old Days</td>\n      <td>/z/ziggy+marley/good+old+days_10198588.html</td>\n      <td>Irie days come on play  \\r\\nLet the angels fly...</td>\n    </tr>\n    <tr>\n      <th>57646</th>\n      <td>Ziggy Marley</td>\n      <td>Hand To Mouth</td>\n      <td>/z/ziggy+marley/hand+to+mouth_20531167.html</td>\n      <td>Power to the workers  \\r\\nMore power  \\r\\nPowe...</td>\n    </tr>\n    <tr>\n      <th>57647</th>\n      <td>Zwan</td>\n      <td>Come With Me</td>\n      <td>/z/zwan/come+with+me_20148981.html</td>\n      <td>all you need  \\r\\nis something i'll believe  \\...</td>\n    </tr>\n    <tr>\n      <th>57648</th>\n      <td>Zwan</td>\n      <td>Desire</td>\n      <td>/z/zwan/desire_20148986.html</td>\n      <td>northern star  \\r\\nam i frightened  \\r\\nwhere ...</td>\n    </tr>\n    <tr>\n      <th>57649</th>\n      <td>Zwan</td>\n      <td>Heartsong</td>\n      <td>/z/zwan/heartsong_20148991.html</td>\n      <td>come in  \\r\\nmake yourself at home  \\r\\ni'm a ...</td>\n    </tr>\n  </tbody>\n</table>\n</div>"
     },
     "execution_count": 237,
     "metadata": {},
     "output_type": "execute_result"
    }
   ],
   "source": [
    "df.tail(5)"
   ],
   "metadata": {
    "collapsed": false,
    "ExecuteTime": {
     "end_time": "2024-02-13T18:32:08.804903500Z",
     "start_time": "2024-02-13T18:32:08.744288200Z"
    }
   },
   "id": "197105dd6881c189",
   "execution_count": 237
  },
  {
   "cell_type": "code",
   "outputs": [
    {
     "data": {
      "text/plain": "(57650, 4)"
     },
     "execution_count": 238,
     "metadata": {},
     "output_type": "execute_result"
    }
   ],
   "source": [
    "df.shape"
   ],
   "metadata": {
    "collapsed": false,
    "ExecuteTime": {
     "end_time": "2024-02-13T18:32:08.806416200Z",
     "start_time": "2024-02-13T18:32:08.764780900Z"
    }
   },
   "id": "36477f449bad039",
   "execution_count": 238
  },
  {
   "cell_type": "code",
   "outputs": [
    {
     "data": {
      "text/plain": "artist    0\nsong      0\nlink      0\ntext      0\ndtype: int64"
     },
     "execution_count": 239,
     "metadata": {},
     "output_type": "execute_result"
    }
   ],
   "source": [
    "df.isnull().sum()"
   ],
   "metadata": {
    "collapsed": false,
    "ExecuteTime": {
     "end_time": "2024-02-13T18:32:08.878861100Z",
     "start_time": "2024-02-13T18:32:08.770565600Z"
    }
   },
   "id": "377595cb3a6baab1",
   "execution_count": 239
  },
  {
   "cell_type": "code",
   "outputs": [],
   "source": [
    "df = df.sample(5000).drop('link', axis=1).reset_index(drop=True)"
   ],
   "metadata": {
    "collapsed": false,
    "ExecuteTime": {
     "end_time": "2024-02-13T18:32:08.906654600Z",
     "start_time": "2024-02-13T18:32:08.792299Z"
    }
   },
   "id": "241c45f21883efd4",
   "execution_count": 240
  },
  {
   "cell_type": "code",
   "outputs": [
    {
     "data": {
      "text/plain": "                 artist                  song  \\\n0         Kylie Minogue  On A Night Like This   \n1            Elton John         Cry To Heaven   \n2       Hillsong United   Faithful To The End   \n3  Beauty And The Beast                    Me   \n4       Yeah Yeah Yeahs              Hysteric   \n5        Lynyrd Skynyrd       I Know A Little   \n6            Billy Joel                   The   \n7           Vanilla Ice                Go Ill   \n8         Stevie Wonder      Sensuous Whisper   \n9         Peter Gabriel      Let It Be (Live)   \n\n                                                text  \n0  Don't say it's like a fantasy  \\r\\nWhen you kn...  \n1  I found a black beret on the street today  \\r\\...  \n2  Faithful to the End  \\r\\n  \\r\\nI'm saved from ...  \n3  Gaston  \\r\\n  \\r\\nYou've been dreaming, just o...  \n4  No longer no longer  \\r\\nWhat you ask  \\r\\nStr...  \n5  Yes sir  \\r\\n  \\r\\nWell the bigger the city, w...  \n6  Well I'm on the Downeaster \"Alexa\"  \\r\\nAnd I'...  \n7  [Verse 1]  \\r\\nGet on up...i walk the beat and...  \n8  I've seen you, I saw you, I see you  \\r\\nWitho...  \n9  When I find myself in times of trouble  \\r\\nMo...  ",
      "text/html": "<div>\n<style scoped>\n    .dataframe tbody tr th:only-of-type {\n        vertical-align: middle;\n    }\n\n    .dataframe tbody tr th {\n        vertical-align: top;\n    }\n\n    .dataframe thead th {\n        text-align: right;\n    }\n</style>\n<table border=\"1\" class=\"dataframe\">\n  <thead>\n    <tr style=\"text-align: right;\">\n      <th></th>\n      <th>artist</th>\n      <th>song</th>\n      <th>text</th>\n    </tr>\n  </thead>\n  <tbody>\n    <tr>\n      <th>0</th>\n      <td>Kylie Minogue</td>\n      <td>On A Night Like This</td>\n      <td>Don't say it's like a fantasy  \\r\\nWhen you kn...</td>\n    </tr>\n    <tr>\n      <th>1</th>\n      <td>Elton John</td>\n      <td>Cry To Heaven</td>\n      <td>I found a black beret on the street today  \\r\\...</td>\n    </tr>\n    <tr>\n      <th>2</th>\n      <td>Hillsong United</td>\n      <td>Faithful To The End</td>\n      <td>Faithful to the End  \\r\\n  \\r\\nI'm saved from ...</td>\n    </tr>\n    <tr>\n      <th>3</th>\n      <td>Beauty And The Beast</td>\n      <td>Me</td>\n      <td>Gaston  \\r\\n  \\r\\nYou've been dreaming, just o...</td>\n    </tr>\n    <tr>\n      <th>4</th>\n      <td>Yeah Yeah Yeahs</td>\n      <td>Hysteric</td>\n      <td>No longer no longer  \\r\\nWhat you ask  \\r\\nStr...</td>\n    </tr>\n    <tr>\n      <th>5</th>\n      <td>Lynyrd Skynyrd</td>\n      <td>I Know A Little</td>\n      <td>Yes sir  \\r\\n  \\r\\nWell the bigger the city, w...</td>\n    </tr>\n    <tr>\n      <th>6</th>\n      <td>Billy Joel</td>\n      <td>The</td>\n      <td>Well I'm on the Downeaster \"Alexa\"  \\r\\nAnd I'...</td>\n    </tr>\n    <tr>\n      <th>7</th>\n      <td>Vanilla Ice</td>\n      <td>Go Ill</td>\n      <td>[Verse 1]  \\r\\nGet on up...i walk the beat and...</td>\n    </tr>\n    <tr>\n      <th>8</th>\n      <td>Stevie Wonder</td>\n      <td>Sensuous Whisper</td>\n      <td>I've seen you, I saw you, I see you  \\r\\nWitho...</td>\n    </tr>\n    <tr>\n      <th>9</th>\n      <td>Peter Gabriel</td>\n      <td>Let It Be (Live)</td>\n      <td>When I find myself in times of trouble  \\r\\nMo...</td>\n    </tr>\n  </tbody>\n</table>\n</div>"
     },
     "execution_count": 241,
     "metadata": {},
     "output_type": "execute_result"
    }
   ],
   "source": [
    "df.head(10)"
   ],
   "metadata": {
    "collapsed": false,
    "ExecuteTime": {
     "end_time": "2024-02-13T18:32:08.908163500Z",
     "start_time": "2024-02-13T18:32:08.799368300Z"
    }
   },
   "id": "2e2db9ae5755c95f",
   "execution_count": 241
  },
  {
   "cell_type": "code",
   "outputs": [
    {
     "data": {
      "text/plain": "\"Don't say it's like a fantasy  \\r\\nWhen you know this is how it should be  \\r\\nYou kiss me  \\r\\nI'm falling can you hear me calling  \\r\\nYou touch me, I want you  \\r\\nFeels like I've always known you  \\r\\n  \\r\\nOn a night like this  \\r\\nI want to stay forever (stay forever)  \\r\\nOn a night like this  \\r\\nJust want to be together  \\r\\nOn a night like this  \\r\\n  \\r\\n(On a, on a, on, on a, on a, on)  \\r\\n(On a, on a, on, on a, on a, on)  \\r\\nNow I'm getting closer to you  \\r\\nHold me, I just can't be without you  \\r\\nYou kiss me, I'm falling  \\r\\nIt's your name I'm calling  \\r\\nYou touch me, I want you  \\r\\nFeels like I've always known you  \\r\\n  \\r\\nOn a night like this  \\r\\nI want to stay forever (stay forever)  \\r\\nOn a night like this  \\r\\nJust want to be together  \\r\\nOn a night like this  \\r\\n  \\r\\nSeems like I've known you a lifetime (lifetime)  \\r\\nNow it's time to make you mine  \\r\\nOn a night like this  \\r\\nOn a night like this, oh  \\r\\n  \\r\\n(You kiss me, I'm falling)  \\r\\n(You touch me)  \\r\\n  \\r\\nOn a night like this  \\r\\nJust want to be together  \\r\\n  \\r\\nOn a night like this  \\r\\nI want to stay forever (stay forever)  \\r\\nOn a night like this  \\r\\nJust want to be together  \\r\\nOn a night like this  \\r\\n  \\r\\n(You kiss me, I'm falling)  \\r\\n(You touch me)  \\r\\n  \\r\\nOn a night like this  \\r\\n(You kiss me, I'm falling)  \\r\\n(You touch me)  \\r\\n  \\r\\nOn a night like this  \\r\\n(You kiss me, I'm falling)  \\r\\n(You touch me)  \\r\\nOn a night like this\\r\\n\\r\\n\""
     },
     "execution_count": 242,
     "metadata": {},
     "output_type": "execute_result"
    }
   ],
   "source": [
    "df['text'][0]"
   ],
   "metadata": {
    "collapsed": false,
    "ExecuteTime": {
     "end_time": "2024-02-13T18:32:08.909168600Z",
     "start_time": "2024-02-13T18:32:08.808482700Z"
    }
   },
   "id": "4c5cdafa4844143d",
   "execution_count": 242
  },
  {
   "cell_type": "code",
   "outputs": [],
   "source": [
    "# df = df.sample(5000)"
   ],
   "metadata": {
    "collapsed": false,
    "ExecuteTime": {
     "end_time": "2024-02-13T18:32:08.910168800Z",
     "start_time": "2024-02-13T18:32:08.814361300Z"
    }
   },
   "id": "b65d555aef10ad5e",
   "execution_count": 243
  },
  {
   "cell_type": "code",
   "outputs": [
    {
     "data": {
      "text/plain": "(5000, 3)"
     },
     "execution_count": 244,
     "metadata": {},
     "output_type": "execute_result"
    }
   ],
   "source": [
    "df.shape"
   ],
   "metadata": {
    "collapsed": false,
    "ExecuteTime": {
     "end_time": "2024-02-13T18:32:08.910168800Z",
     "start_time": "2024-02-13T18:32:08.821675400Z"
    }
   },
   "id": "6611247953aefbd7",
   "execution_count": 244
  },
  {
   "cell_type": "markdown",
   "source": [
    "Text Cleaning/ Text Preprocessing"
   ],
   "metadata": {
    "collapsed": false
   },
   "id": "1879f52614c0e13c"
  },
  {
   "cell_type": "code",
   "outputs": [],
   "source": [
    "df['text'] = df['text'].str.lower().replace(r'^\\w\\s', ' ').replace(r'\\n', '', regex = True)"
   ],
   "metadata": {
    "collapsed": false,
    "ExecuteTime": {
     "end_time": "2024-02-13T18:32:08.954094400Z",
     "start_time": "2024-02-13T18:32:08.824895900Z"
    }
   },
   "id": "e7f8ef65e8038b10",
   "execution_count": 245
  },
  {
   "cell_type": "code",
   "outputs": [],
   "source": [
    "import nltk\n",
    "from nltk.stem.porter import PorterStemmer\n",
    "stemmer = PorterStemmer()\n",
    "\n",
    "def tokenization(txt):\n",
    "    tokens = nltk.word_tokenize(txt)\n",
    "    stemming = [stemmer.stem(w) for w in tokens]\n",
    "    return \" \".join(stemming)"
   ],
   "metadata": {
    "collapsed": false,
    "ExecuteTime": {
     "end_time": "2024-02-13T18:32:08.954094400Z",
     "start_time": "2024-02-13T18:32:08.865901900Z"
    }
   },
   "id": "f84fa2c1977445d9",
   "execution_count": 246
  },
  {
   "cell_type": "code",
   "outputs": [],
   "source": [
    "df['text'] = df['text'].apply(lambda x: tokenization(x))\n"
   ],
   "metadata": {
    "collapsed": false,
    "ExecuteTime": {
     "end_time": "2024-02-13T18:32:21.502521100Z",
     "start_time": "2024-02-13T18:32:08.872841700Z"
    }
   },
   "id": "b1a8e8181fc3643b",
   "execution_count": 247
  },
  {
   "cell_type": "code",
   "outputs": [],
   "source": [
    "from sklearn.feature_extraction.text import TfidfVectorizer\n",
    "from sklearn.metrics.pairwise import cosine_similarity"
   ],
   "metadata": {
    "collapsed": false,
    "ExecuteTime": {
     "end_time": "2024-02-13T18:32:21.511958800Z",
     "start_time": "2024-02-13T18:32:21.502521100Z"
    }
   },
   "id": "89a66b364630cf87",
   "execution_count": 248
  },
  {
   "cell_type": "code",
   "outputs": [],
   "source": [
    "tfidvector = TfidfVectorizer(analyzer='word',stop_words='english')\n",
    "matrix = tfidvector.fit_transform(df['text'])\n",
    "similarity = cosine_similarity(matrix)"
   ],
   "metadata": {
    "collapsed": false,
    "ExecuteTime": {
     "end_time": "2024-02-13T18:32:22.868497400Z",
     "start_time": "2024-02-13T18:32:21.507129300Z"
    }
   },
   "id": "2bc5ec8e1dafe385",
   "execution_count": 249
  },
  {
   "cell_type": "code",
   "outputs": [
    {
     "data": {
      "text/plain": "array([1.        , 0.03588944, 0.04415938, ..., 0.28394459, 0.01670204,\n       0.09601833])"
     },
     "execution_count": 250,
     "metadata": {},
     "output_type": "execute_result"
    }
   ],
   "source": [
    "similarity[0]"
   ],
   "metadata": {
    "collapsed": false,
    "ExecuteTime": {
     "end_time": "2024-02-13T18:32:22.882872400Z",
     "start_time": "2024-02-13T18:32:22.881749300Z"
    }
   },
   "id": "338e7d20676374a7",
   "execution_count": 250
  },
  {
   "cell_type": "code",
   "outputs": [
    {
     "data": {
      "text/plain": "Empty DataFrame\nColumns: [artist, song, text]\nIndex: []",
      "text/html": "<div>\n<style scoped>\n    .dataframe tbody tr th:only-of-type {\n        vertical-align: middle;\n    }\n\n    .dataframe tbody tr th {\n        vertical-align: top;\n    }\n\n    .dataframe thead th {\n        text-align: right;\n    }\n</style>\n<table border=\"1\" class=\"dataframe\">\n  <thead>\n    <tr style=\"text-align: right;\">\n      <th></th>\n      <th>artist</th>\n      <th>song</th>\n      <th>text</th>\n    </tr>\n  </thead>\n  <tbody>\n  </tbody>\n</table>\n</div>"
     },
     "execution_count": 251,
     "metadata": {},
     "output_type": "execute_result"
    }
   ],
   "source": [
    "df[df['song'] == 'Crying Over You']\n"
   ],
   "metadata": {
    "collapsed": false,
    "ExecuteTime": {
     "end_time": "2024-02-13T18:32:22.905915100Z",
     "start_time": "2024-02-13T18:32:22.884969200Z"
    }
   },
   "id": "faa91b17bc5060c9",
   "execution_count": 251
  },
  {
   "cell_type": "code",
   "outputs": [],
   "source": [
    "\n",
    "def recommendation(song_df):\n",
    "    idx = df[df['song'] == song_df].index[0]\n",
    "    distances = sorted(list(enumerate(similarity[idx])),reverse=True,key=lambda x:x[1])\n",
    "    \n",
    "    songs = []\n",
    "    for m_id in distances[1:21]:\n",
    "        songs.append(df.iloc[m_id[0]].song)\n",
    "        \n",
    "    return songs"
   ],
   "metadata": {
    "collapsed": false,
    "ExecuteTime": {
     "end_time": "2024-02-13T18:32:22.905915100Z",
     "start_time": "2024-02-13T18:32:22.894962600Z"
    }
   },
   "id": "7c9260b2c8746a17",
   "execution_count": 252
  },
  {
   "cell_type": "code",
   "outputs": [
    {
     "ename": "IndexError",
     "evalue": "index 0 is out of bounds for axis 0 with size 0",
     "output_type": "error",
     "traceback": [
      "\u001B[1;31m---------------------------------------------------------------------------\u001B[0m",
      "\u001B[1;31mIndexError\u001B[0m                                Traceback (most recent call last)",
      "Cell \u001B[1;32mIn[253], line 1\u001B[0m\n\u001B[1;32m----> 1\u001B[0m \u001B[43mrecommendation\u001B[49m\u001B[43m(\u001B[49m\u001B[38;5;124;43m'\u001B[39;49m\u001B[38;5;124;43mCrying Over You\u001B[39;49m\u001B[38;5;124;43m'\u001B[39;49m\u001B[43m)\u001B[49m\n",
      "Cell \u001B[1;32mIn[252], line 2\u001B[0m, in \u001B[0;36mrecommendation\u001B[1;34m(song_df)\u001B[0m\n\u001B[0;32m      1\u001B[0m \u001B[38;5;28;01mdef\u001B[39;00m \u001B[38;5;21mrecommendation\u001B[39m(song_df):\n\u001B[1;32m----> 2\u001B[0m     idx \u001B[38;5;241m=\u001B[39m \u001B[43mdf\u001B[49m\u001B[43m[\u001B[49m\u001B[43mdf\u001B[49m\u001B[43m[\u001B[49m\u001B[38;5;124;43m'\u001B[39;49m\u001B[38;5;124;43msong\u001B[39;49m\u001B[38;5;124;43m'\u001B[39;49m\u001B[43m]\u001B[49m\u001B[43m \u001B[49m\u001B[38;5;241;43m==\u001B[39;49m\u001B[43m \u001B[49m\u001B[43msong_df\u001B[49m\u001B[43m]\u001B[49m\u001B[38;5;241;43m.\u001B[39;49m\u001B[43mindex\u001B[49m\u001B[43m[\u001B[49m\u001B[38;5;241;43m0\u001B[39;49m\u001B[43m]\u001B[49m\n\u001B[0;32m      3\u001B[0m     distances \u001B[38;5;241m=\u001B[39m \u001B[38;5;28msorted\u001B[39m(\u001B[38;5;28mlist\u001B[39m(\u001B[38;5;28menumerate\u001B[39m(similarity[idx])),reverse\u001B[38;5;241m=\u001B[39m\u001B[38;5;28;01mTrue\u001B[39;00m,key\u001B[38;5;241m=\u001B[39m\u001B[38;5;28;01mlambda\u001B[39;00m x:x[\u001B[38;5;241m1\u001B[39m])\n\u001B[0;32m      5\u001B[0m     songs \u001B[38;5;241m=\u001B[39m []\n",
      "File \u001B[1;32m~\\PycharmProjects\\Model_Training\\.venv\\Lib\\site-packages\\pandas\\core\\indexes\\base.py:5385\u001B[0m, in \u001B[0;36mIndex.__getitem__\u001B[1;34m(self, key)\u001B[0m\n\u001B[0;32m   5382\u001B[0m \u001B[38;5;28;01mif\u001B[39;00m is_integer(key) \u001B[38;5;129;01mor\u001B[39;00m is_float(key):\n\u001B[0;32m   5383\u001B[0m     \u001B[38;5;66;03m# GH#44051 exclude bool, which would return a 2d ndarray\u001B[39;00m\n\u001B[0;32m   5384\u001B[0m     key \u001B[38;5;241m=\u001B[39m com\u001B[38;5;241m.\u001B[39mcast_scalar_indexer(key)\n\u001B[1;32m-> 5385\u001B[0m     \u001B[38;5;28;01mreturn\u001B[39;00m \u001B[43mgetitem\u001B[49m\u001B[43m(\u001B[49m\u001B[43mkey\u001B[49m\u001B[43m)\u001B[49m\n\u001B[0;32m   5387\u001B[0m \u001B[38;5;28;01mif\u001B[39;00m \u001B[38;5;28misinstance\u001B[39m(key, \u001B[38;5;28mslice\u001B[39m):\n\u001B[0;32m   5388\u001B[0m     \u001B[38;5;66;03m# This case is separated from the conditional above to avoid\u001B[39;00m\n\u001B[0;32m   5389\u001B[0m     \u001B[38;5;66;03m# pessimization com.is_bool_indexer and ndim checks.\u001B[39;00m\n\u001B[0;32m   5390\u001B[0m     \u001B[38;5;28;01mreturn\u001B[39;00m \u001B[38;5;28mself\u001B[39m\u001B[38;5;241m.\u001B[39m_getitem_slice(key)\n",
      "\u001B[1;31mIndexError\u001B[0m: index 0 is out of bounds for axis 0 with size 0"
     ]
    }
   ],
   "source": [
    "recommendation('Crying Over You')\n"
   ],
   "metadata": {
    "collapsed": false,
    "ExecuteTime": {
     "end_time": "2024-02-13T18:32:22.939956100Z",
     "start_time": "2024-02-13T18:32:22.899909Z"
    }
   },
   "id": "abb508decb798708",
   "execution_count": 253
  },
  {
   "cell_type": "code",
   "outputs": [],
   "source": [
    "import pickle\n",
    "pickle.dump(similarity,open('similarity.pkl','wb'))\n",
    "pickle.dump(df,open('df.pkl','wb'))"
   ],
   "metadata": {
    "collapsed": false,
    "ExecuteTime": {
     "start_time": "2024-02-13T18:32:22.927563600Z"
    }
   },
   "id": "b4d5085aec638a33",
   "execution_count": null
  }
 ],
 "metadata": {
  "kernelspec": {
   "display_name": "Python 3",
   "language": "python",
   "name": "python3"
  },
  "language_info": {
   "codemirror_mode": {
    "name": "ipython",
    "version": 2
   },
   "file_extension": ".py",
   "mimetype": "text/x-python",
   "name": "python",
   "nbconvert_exporter": "python",
   "pygments_lexer": "ipython2",
   "version": "2.7.6"
  }
 },
 "nbformat": 4,
 "nbformat_minor": 5
}
